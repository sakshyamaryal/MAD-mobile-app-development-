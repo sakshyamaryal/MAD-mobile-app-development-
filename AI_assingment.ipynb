{
  "nbformat": 4,
  "nbformat_minor": 0,
  "metadata": {
    "colab": {
      "provenance": [],
      "authorship_tag": "ABX9TyMJhpfCUEPxxTrOm0PfoGId",
      "include_colab_link": true
    },
    "kernelspec": {
      "name": "python3",
      "display_name": "Python 3"
    },
    "language_info": {
      "name": "python"
    }
  },
  "cells": [
    {
      "cell_type": "markdown",
      "metadata": {
        "id": "view-in-github",
        "colab_type": "text"
      },
      "source": [
        "<a href=\"https://colab.research.google.com/github/sakshyamaryal/MAD-mobile-app-development-/blob/main/AI_assingment.ipynb\" target=\"_parent\"><img src=\"https://colab.research.google.com/assets/colab-badge.svg\" alt=\"Open In Colab\"/></a>"
      ]
    },
    {
      "cell_type": "code",
      "execution_count": 44,
      "metadata": {
        "id": "Je1php5vGDkX"
      },
      "outputs": [],
      "source": [
        "import numpy as np\n",
        "import cv2\n",
        "import os\n",
        "from sklearn.model_selection import train_test_split\n",
        "from keras.models import Sequential\n",
        "from keras.layers import Conv2D, MaxPooling2D, Flatten, Dense\n",
        "from keras.optimizers import Adam\n",
        "from keras.preprocessing.image import ImageDataGenerator"
      ]
    },
    {
      "cell_type": "code",
      "source": [
        "dataset_path = '/content/sample_data/dataset'\n",
        "\n",
        "\n",
        "# Step 1: Dataset Loading\n",
        "labels = os.listdir(dataset_path)\n",
        "images = []\n",
        "labels_encoded = []\n",
        "\n",
        "for label in labels:\n",
        "    images_path = os.path.join(dataset_path, label)\n",
        "    for image_name in os.listdir(images_path):\n",
        "        image_path = os.path.join(images_path, image_name)\n",
        "        image = cv2.imread(image_path)\n",
        "        image = cv2.cvtColor(image, cv2.COLOR_BGR2GRAY)\n",
        "        image = cv2.resize(image, (64, 64))  # Resize the image to a consistent size\n",
        "        image_array = np.expand_dims(image, axis=-1)  # Add channel dimension\n",
        "        images.append(image_array)\n",
        "        labels_encoded.append(labels.index(label))\n"
      ],
      "metadata": {
        "id": "Xm_HkmRVHb8B"
      },
      "execution_count": 45,
      "outputs": []
    },
    {
      "cell_type": "code",
      "source": [
        "# datagen = ImageDataGenerator(\n",
        "#     rotation_range=20,\n",
        "#     shear_range=0.2,\n",
        "#     horizontal_flip=True,\n",
        "#     channel_shift_range=50,\n",
        "#     brightness_range=[0.8, 1.2],\n",
        "#     zoom_range=0.2,\n",
        "#     fill_mode='nearest'\n",
        "# )\n"
      ],
      "metadata": {
        "id": "oufCtXmJJS16"
      },
      "execution_count": 22,
      "outputs": []
    },
    {
      "cell_type": "code",
      "source": [
        "# Step 2: Data Augmentation\n",
        "# datagen = ImageDataGenerator(\n",
        "#     rotation_range=20,\n",
        "#     shear_range=0.2,\n",
        "#     horizontal_flip=True,\n",
        "#     channel_shift_range=50,\n",
        "#     brightness_range=[0.8, 1.2],\n",
        "#     zoom_range=0.2,\n",
        "#     fill_mode='nearest'\n",
        "# )\n",
        "datagen = ImageDataGenerator(\n",
        "    rotation_range=20,\n",
        "    width_shift_range=0.2,\n",
        "    height_shift_range=0.2,\n",
        "    shear_range=0.2,\n",
        "    zoom_range=0.2,\n",
        "    horizontal_flip=True,\n",
        "    vertical_flip=True,\n",
        "    fill_mode='nearest'\n",
        ")\n",
        "\n",
        "augmented_images = []\n",
        "augmented_labels = []\n",
        "\n",
        "# Create directories to save augmented images\n",
        "augmented_path = '/content/sample_data/augmented_images'\n",
        "\n",
        "os.makedirs(augmented_path, exist_ok=True)\n",
        "\n",
        "for image, label in zip(images, labels_encoded):\n",
        "    augmented_images.append(image)\n",
        "    augmented_labels.append(label)\n",
        "    image = image.reshape((1,) + image.shape)\n",
        "    augmented = datagen.flow(image, batch_size=1)\n",
        "    i = 0\n",
        "    for batch in augmented:\n",
        "        augmented_image = batch[0].astype(np.uint8)\n",
        "        augmented_images.append(augmented_image)\n",
        "        augmented_labels.append(label)\n",
        "\n",
        "        # Save augmented images\n",
        "        save_path = os.path.join(augmented_path, f\"{label}_{i}.jpg\")\n",
        "        cv2.imwrite(save_path, augmented_image)\n",
        "        i += 1\n",
        "        if i >= 100:\n",
        "            break\n",
        "\n",
        "print(\"Augmented Images Saved\")\n"
      ],
      "metadata": {
        "colab": {
          "base_uri": "https://localhost:8080/"
        },
        "id": "WrdCnwT1JT0K",
        "outputId": "f37ecfed-c540-4536-e875-47ee87f5f865"
      },
      "execution_count": 46,
      "outputs": [
        {
          "output_type": "stream",
          "name": "stdout",
          "text": [
            "Augmented Images Saved\n"
          ]
        }
      ]
    },
    {
      "cell_type": "code",
      "source": [
        "# X_train, X_test, y_train, y_test = train_test_split(augmented_images, augmented_labels, test_size=0.2, random_state=42)\n"
      ],
      "metadata": {
        "id": "Jnz9deM4Jcxp"
      },
      "execution_count": 47,
      "outputs": []
    },
    {
      "cell_type": "code",
      "source": [
        "X_train, X_test, y_train, y_test = train_test_split(augmented_images, augmented_labels, test_size=0.2, random_state=42)\n",
        "\n",
        "# Convert to NumPy arrays\n",
        "X_train = np.array(X_train)\n",
        "y_train = np.array(y_train)\n",
        "\n",
        "# Step 4: Model Design\n",
        "num_classes = len(labels)\n",
        "model = Sequential()\n",
        "model.add(Conv2D(32, (3, 3), activation='relu', input_shape=(64, 64, 1)))\n",
        "model.add(MaxPooling2D(pool_size=(2, 2)))\n",
        "model.add(Conv2D(64, (3, 3), activation='relu'))\n",
        "model.add(MaxPooling2D(pool_size=(2, 2)))\n",
        "model.add(Flatten())\n",
        "model.add(Dense(128, activation='relu'))\n",
        "model.add(Dense(num_classes, activation='softmax'))"
      ],
      "metadata": {
        "id": "1J-hH9NyJfiL"
      },
      "execution_count": 48,
      "outputs": []
    },
    {
      "cell_type": "code",
      "source": [
        "model.compile(optimizer=Adam(lr=0.001), loss='sparse_categorical_crossentropy', metrics=['accuracy'])\n",
        "model.fit(X_train, y_train, epochs=10, batch_size=32)"
      ],
      "metadata": {
        "colab": {
          "base_uri": "https://localhost:8080/"
        },
        "id": "kFZLalsEK4ml",
        "outputId": "8bf0bbfd-38f7-4c77-b87a-1bf5f3b60cc3"
      },
      "execution_count": 49,
      "outputs": [
        {
          "output_type": "stream",
          "name": "stdout",
          "text": [
            "Epoch 1/10\n",
            "6/6 [==============================] - 1s 157ms/step - loss: 149.5518 - accuracy: 0.4720\n",
            "Epoch 2/10\n",
            "6/6 [==============================] - 1s 186ms/step - loss: 3.3564 - accuracy: 0.5093\n",
            "Epoch 3/10\n",
            "6/6 [==============================] - 1s 123ms/step - loss: 0.8853 - accuracy: 0.5280\n",
            "Epoch 4/10\n",
            "6/6 [==============================] - 1s 124ms/step - loss: 0.9727 - accuracy: 0.5342\n",
            "Epoch 5/10\n",
            "6/6 [==============================] - 1s 120ms/step - loss: 0.4078 - accuracy: 0.7950\n",
            "Epoch 6/10\n",
            "6/6 [==============================] - 1s 189ms/step - loss: 0.2742 - accuracy: 0.9068\n",
            "Epoch 7/10\n",
            "6/6 [==============================] - 1s 223ms/step - loss: 0.6095 - accuracy: 0.7019\n",
            "Epoch 8/10\n",
            "6/6 [==============================] - 1s 172ms/step - loss: 0.2693 - accuracy: 0.8882\n",
            "Epoch 9/10\n",
            "6/6 [==============================] - 1s 124ms/step - loss: 0.1759 - accuracy: 0.9379\n",
            "Epoch 10/10\n",
            "6/6 [==============================] - 1s 124ms/step - loss: 0.1367 - accuracy: 0.9565\n"
          ]
        },
        {
          "output_type": "execute_result",
          "data": {
            "text/plain": [
              "<keras.callbacks.History at 0x7f839f34c370>"
            ]
          },
          "metadata": {},
          "execution_count": 49
        }
      ]
    },
    {
      "cell_type": "code",
      "source": [
        "# Step 6: Model Save and Selection\n",
        "if not os.path.exists('/content/sample_data/face_recognition_model.h5'):\n",
        "    os.makedirs('/content/sample_data/face_recognition_model.h5')\n",
        "model.save('/content/sample_data/face_recognition_model.h5')\n"
      ],
      "metadata": {
        "id": "8oMHh4qMK7o3"
      },
      "execution_count": 50,
      "outputs": []
    },
    {
      "cell_type": "code",
      "source": [
        "# Step 7: Accuracy Evaluation\n",
        "accuracy = model.evaluate(np.array(X_test), np.array(y_test))[1]\n",
        "print(\"Accuracy:\", accuracy)\n"
      ],
      "metadata": {
        "colab": {
          "base_uri": "https://localhost:8080/"
        },
        "id": "-5JMBcYoK-BP",
        "outputId": "921c63da-0761-4e6a-f5c0-a7c23feae0b0"
      },
      "execution_count": 51,
      "outputs": [
        {
          "output_type": "stream",
          "name": "stdout",
          "text": [
            "2/2 [==============================] - 0s 19ms/step - loss: 0.1940 - accuracy: 0.9024\n",
            "Accuracy: 0.9024389982223511\n"
          ]
        }
      ]
    },
    {
      "cell_type": "code",
      "source": [
        "# Step 8: Real Image Testing\n",
        "def recognize_faces(image_path):\n",
        "    image = cv2.imread(image_path)\n",
        "    gray_image = cv2.cvtColor(image, cv2.COLOR_BGR2GRAY)\n"
      ],
      "metadata": {
        "id": "CCTQu6xjLBur"
      },
      "execution_count": 52,
      "outputs": []
    }
  ]
}